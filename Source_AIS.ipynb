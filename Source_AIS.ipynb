{
  "nbformat": 4,
  "nbformat_minor": 0,
  "metadata": {
    "colab": {
      "name": "Source AIS.ipynb",
      "provenance": [],
      "collapsed_sections": []
    },
    "kernelspec": {
      "name": "python3",
      "display_name": "Python 3"
    },
    "language_info": {
      "name": "python"
    }
  },
  "cells": [
    {
      "cell_type": "code",
      "metadata": {
        "id": "Ze7wfdvnyHBs"
      },
      "source": [
        "import requests\n",
        "from bs4 import BeautifulSoup\n",
        "import re\n",
        "import dateutil"
      ],
      "execution_count": 1,
      "outputs": []
    },
    {
      "cell_type": "code",
      "metadata": {
        "id": "-x7pXWQwzFBi"
      },
      "source": [
        "result = requests.get(\"https://www.aishub.net/stations\")"
      ],
      "execution_count": 16,
      "outputs": []
    },
    {
      "cell_type": "code",
      "metadata": {
        "colab": {
          "base_uri": "https://localhost:8080/"
        },
        "id": "1pMt8iKazj3s",
        "outputId": "12782ced-442d-44e9-8d57-14136133fc21"
      },
      "source": [
        "result"
      ],
      "execution_count": 17,
      "outputs": [
        {
          "output_type": "execute_result",
          "data": {
            "text/plain": [
              "<Response [200]>"
            ]
          },
          "metadata": {},
          "execution_count": 17
        }
      ]
    },
    {
      "cell_type": "code",
      "metadata": {
        "id": "P8ikEkqWzliL"
      },
      "source": [
        "src = result.text\n",
        "document = BeautifulSoup(src, 'lxml')"
      ],
      "execution_count": 18,
      "outputs": []
    },
    {
      "cell_type": "code",
      "metadata": {
        "id": "r5k38nGqzoWy"
      },
      "source": [
        "table = document.find(\"table\")"
      ],
      "execution_count": 19,
      "outputs": []
    },
    {
      "cell_type": "code",
      "metadata": {
        "id": "i2sRVJ84zqgp"
      },
      "source": [
        "table"
      ],
      "execution_count": null,
      "outputs": []
    },
    {
      "cell_type": "code",
      "metadata": {
        "id": "fygxRQ7zzrYa"
      },
      "source": [
        "rows = table.find_all(\"tr\")  # Note: this works because find_all is resursive by default"
      ],
      "execution_count": 14,
      "outputs": []
    },
    {
      "cell_type": "code",
      "metadata": {
        "id": "pzL0U41Zz5jA"
      },
      "source": [
        "rows"
      ],
      "execution_count": null,
      "outputs": []
    },
    {
      "cell_type": "code",
      "metadata": {
        "colab": {
          "base_uri": "https://localhost:8080/"
        },
        "id": "rNZJHEDvz6TY",
        "outputId": "7a5452f8-d2ab-42d7-ea4b-d2d4009a1d80"
      },
      "source": [
        "for row in rows[2:-1]:\n",
        "    cells = row.find_all([\"td\", \"th\"])\n",
        "    cells_text = [cell.get_text(strip=True) for cell in cells]\n",
        "    (ID, Status, Uptime, Country, Location, Ships, Distinct, Contributor) = cells_text    \n",
        "    print(f\"{ID}, {Status}, {Uptime}, {Country}, {Location}, {Ships} , {Distinct} , {Contributor}\")"
      ],
      "execution_count": 24,
      "outputs": [
        {
          "output_type": "stream",
          "name": "stdout",
          "text": [
            "2766, , 0 %, Angola, Zaire, 0 , 0 , \n",
            "3061, , 100 %, Argentina, Buenos Aires, 33 , 33 , \n",
            "2864, , 0 %, Australia, Morayfield, 0 , 0 , \n",
            "2995, , 100 %, Australia, Kingston, 6 , 6 , \n",
            "3292, , 99 %, Australia, Oakleigh, Victoria, 5 , 5 , SARCNET\n",
            "2999, , 100 %, Australia, Mount Hicks, 8 , 6 , \n",
            "2739, , 90 %, Australia, Townsville, 38 , 38 , \n",
            "2360, , 100 %, Australia, Port Hedland, 3 , 3 , \n",
            "2637, , 87 %, Australia, Devonport, 7 , 5 , \n",
            "2556, , 100 %, Australia, Franklin, 10 , 10 , \n",
            "2070, , 100 %, Australia, Nelson Bay, NSW, 53 , 39 , \n",
            "2936, , 94 %, Australia, Kettering, 22 , 22 , \n",
            "2801, , 0 %, Australia, Glenorcky, 0 , 0 , \n",
            "2502, , 100 %, Australia, Scarborough, 13 , 13 , \n",
            "2465, , 0 %, Australia, Darwin, 0 , 0 , \n",
            "2675, , 100 %, Australia, Sydney, 25 , 11 , \n",
            "2701, , 96 %, Australia, O'Connor, 64 , 64 , \n",
            "2288, , 100 %, Australia, Johanna, 5 , 5 , \n",
            "2234, , 97 %, Australia, Mt Arthur (N.Tasmania), 6 , 6 , \n",
            "2798, , 100 %, Austria, Linz, 27 , 27 , \n",
            "3175, , 100 %, Austria, Vienna, 2 , 0 , \n",
            "2520, , 100 %, Austria, Vienna, 14 , 10 , \n",
            "2984, , 100 %, Azerbaijan, Baku, 42 , 42 , \n",
            "2445, , 0 %, Bahamas, Freeport, 0 , 0 , \n",
            "2127, , 100 %, Belgium, Izegem, 145 , 0 , \n",
            "2300, , 100 %, Belgium, Antwerp Harbour 1, 471 , 28 , www.vemasys.com\n",
            "2404, , 100 %, Belgium, Bruges, 154 , 17 , dotOcean\n",
            "3152, , 100 %, Belgium, Zeebrugge, 203 , 27 , Citymesh\n",
            "2061, , 100 %, Belgium, Ostend, 40 , 0 , \n",
            "3075, , 100 %, Belgium, Aalst, 3 , 3 , \n",
            "2276, , 100 %, Belgium, Schilde, 311 , 4 , \n",
            "3359, , 83 %, Belgium, Schoten, 46 , 2 , \n",
            "3459, , 100 %, Belgium, Oostende, 146 , 2 , Flanders Marine Institute\n",
            "2723, , 0 %, Belgium, Antwerp Harbour 2, 0 , 0 , www.vemasys.com\n",
            "3215, , 86 %, Belgium, Antwerp, 1 , 0 , \n",
            "2145, , 100 %, Belgium, Antwerp2, 506 , 43 , Tresco Engineering\n",
            "2981, , 95 %, Belgium, Oostende, 118 , 1 , \n",
            "2292, , 100 %, Belgium, Gent, 428 , 250 , \n",
            "2546, , 100 %, Belgium, Merchtem, 26 , 3 , \n",
            "3249, , 88 %, Belgium, Antwerp, 133 , 0 , \n",
            "3483, , 9 %, Belgium, WIjnegem, 49 , 12 , \n",
            "2709, , 0 %, Belgium, Watervliet, St Laureins, 0 , 0 , \n",
            "3489, , 100 %, Brazil, Maceio, 3 , 3 , \n",
            "2929, , 0 %, Brazil, Curitiba, 0 , 0 , \n",
            "2517, , 100 %, Brazil, Belem, 171 , 53 , \n",
            "2850, , 100 %, Brazil, Fortaleza, 12 , 12 , German Aerospace Center (DLR)\n",
            "3019, , 0 %, Bulgaria, Varna, 0 , 0 , \n",
            "2576, , 0 %, Bulgaria, Varna, 0 , 0 , \n",
            "2372, , 99 %, Canada, Vancouver, 133 , 29 , \n"
          ]
        }
      ]
    },
    {
      "cell_type": "code",
      "metadata": {
        "id": "eKP2PYej2MwC"
      },
      "source": [
        ""
      ],
      "execution_count": 25,
      "outputs": []
    },
    {
      "cell_type": "code",
      "metadata": {
        "id": "if9QRO0Z5e_a"
      },
      "source": [
        ""
      ],
      "execution_count": null,
      "outputs": []
    }
  ]
}